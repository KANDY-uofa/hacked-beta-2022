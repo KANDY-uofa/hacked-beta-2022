{
  "nbformat": 4,
  "nbformat_minor": 0,
  "metadata": {
    "colab": {
      "provenance": [],
      "collapsed_sections": []
    },
    "kernelspec": {
      "name": "python3",
      "display_name": "Python 3"
    },
    "language_info": {
      "name": "python"
    }
  },
  "cells": [
    {
      "cell_type": "markdown",
      "source": [
        "# PDF Parsing "
      ],
      "metadata": {
        "id": "RKcR0lnQMIOH"
      }
    },
    {
      "cell_type": "markdown",
      "source": [
        "Team Name: KANDY\n",
        "\n",
        "Date: November 06, 2022\n",
        "\n",
        "Project: Analyzing Information on Car Collision in Canada\n",
        "\n",
        "Competition: HACKED(beta) 2022 at the University of Alberta\n",
        "\n",
        "Author: Jamie Lee\n",
        "\n",
        "Team Members: Min Joh, Jamie Lee, Taekwan Yoon, Yongbin Kim, Dohyun Kim\n",
        "\n",
        "Description of file:\n",
        "\n",
        "This Jupyter Notebook parse table data from pdf file and merge all the csv files after. "
      ],
      "metadata": {
        "id": "bJKk6i6xc3m9"
      }
    },
    {
      "cell_type": "markdown",
      "source": [
        "## 1. Setups"
      ],
      "metadata": {
        "id": "mTK0dnKkMMgm"
      }
    },
    {
      "cell_type": "markdown",
      "source": [
        "### 1.1 Installing Modules"
      ],
      "metadata": {
        "id": "0hPoyT-ZMQO4"
      }
    },
    {
      "cell_type": "code",
      "source": [
        "pip install PyPDF2"
      ],
      "metadata": {
        "colab": {
          "base_uri": "https://localhost:8080/"
        },
        "id": "mA7eKsNUL6vY",
        "outputId": "2565b5b9-f55c-4b95-9cfc-4d861ab9d7c5"
      },
      "execution_count": 1,
      "outputs": [
        {
          "output_type": "stream",
          "name": "stdout",
          "text": [
            "Looking in indexes: https://pypi.org/simple, https://us-python.pkg.dev/colab-wheels/public/simple/\n",
            "Requirement already satisfied: PyPDF2 in /usr/local/lib/python3.7/dist-packages (2.11.1)\n",
            "Requirement already satisfied: typing-extensions>=3.10.0.0 in /usr/local/lib/python3.7/dist-packages (from PyPDF2) (4.1.1)\n"
          ]
        }
      ]
    },
    {
      "cell_type": "markdown",
      "source": [
        "### 1.2 Importing Modules and Read File"
      ],
      "metadata": {
        "id": "s_K0hI4FMU6H"
      }
    },
    {
      "cell_type": "code",
      "source": [
        "from PyPDF2 import PdfFileReader\n",
        "from glob import glob\n",
        "from google.colab import drive\n",
        "import pandas as pd\n",
        "import os\n",
        "import csv\n",
        "\n",
        "drive.mount('/content/drive')\n",
        "file_path = '/content/drive/Shareddrives/KANDY-hacked-beta/Data_Sets/alberta_collision_statistics/trans-alberta-traffic-collision-statistics-2010.pdf'\n",
        "reader = PdfFileReader(file_path)"
      ],
      "metadata": {
        "colab": {
          "base_uri": "https://localhost:8080/"
        },
        "id": "-ZOR4gM5LzRS",
        "outputId": "5dd7354b-71c4-41b6-86f6-b7c5cbb36745"
      },
      "execution_count": 33,
      "outputs": [
        {
          "output_type": "stream",
          "name": "stderr",
          "text": [
            "WARNING:PyPDF2._reader:Xref table not zero-indexed. ID numbers for objects will be corrected.\n"
          ]
        },
        {
          "output_type": "stream",
          "name": "stdout",
          "text": [
            "Drive already mounted at /content/drive; to attempt to forcibly remount, call drive.mount(\"/content/drive\", force_remount=True).\n"
          ]
        }
      ]
    },
    {
      "cell_type": "markdown",
      "source": [
        "## 2. PDF Parsing"
      ],
      "metadata": {
        "id": "hw_tIE7_MiRT"
      }
    },
    {
      "cell_type": "markdown",
      "source": [
        "### 2.1 Find Page Number"
      ],
      "metadata": {
        "id": "TCYdcvEyTZcx"
      }
    },
    {
      "cell_type": "code",
      "source": [
        "def find_page_num():\n",
        "  title = \"Collision occurrence by month\"\n",
        "  for i in range(30):\n",
        "    page_obj = reader.getPage(i)\n",
        "    if i > 15:\n",
        "      for j in range(10):\n",
        "        try:\n",
        "          page_title = page_obj.extractText().split('\\n')[j]\n",
        "        except IndexError:\n",
        "            page_title = \"\"\n",
        "        if title.lower() in page_title.lower():\n",
        "          return i\n",
        "\n",
        "find_page_num()"
      ],
      "metadata": {
        "colab": {
          "base_uri": "https://localhost:8080/"
        },
        "id": "HFDpsheJNXbp",
        "outputId": "0980ce7f-5e5c-4ace-82db-b327de0e8265"
      },
      "execution_count": 34,
      "outputs": [
        {
          "output_type": "execute_result",
          "data": {
            "text/plain": [
              "23"
            ]
          },
          "metadata": {},
          "execution_count": 34
        }
      ]
    },
    {
      "cell_type": "markdown",
      "source": [
        "### 2.2 Get All Context from Given Page Number"
      ],
      "metadata": {
        "id": "qLJxuTMycHlg"
      }
    },
    {
      "cell_type": "code",
      "source": [
        "def get_context(page_num):\n",
        "  # extract all the contexts from given page_num\n",
        "  page_obj = reader.getPage(page_num)\n",
        "  context_list = [page_obj.extractText().split('\\n')]\n",
        "  context_list  = [val for sublist in context_list for val in sublist]\n",
        "\n",
        "  # taking monthly data and remove other unwated contexts\n",
        "  index = 0 \n",
        "  for i in context_list:\n",
        "    if i.startswith(\"January\"):\n",
        "      context_list = context_list[index:]\n",
        "    index += 1\n",
        "  index = 0 \n",
        "  for i in context_list:\n",
        "    if i.endswith(\"Total Number\"):\n",
        "      context_list = context_list[:index]\n",
        "    index += 1\n",
        "  \n",
        "  # remove unwanted string from last item in list\n",
        "  last_list = context_list[len(context_list)-1].split('U')\n",
        "  last_list = last_list[:1]\n",
        "  context_list = context_list[:-1] + last_list\n",
        "\n",
        "  monthly_context = ''.join(context_list).split()\n",
        "  monthly_context_new = []\n",
        "  for string in monthly_context:\n",
        "    character = list(string)\n",
        "    for idx in range(len(character)):\n",
        "      if character[idx].isalpha():\n",
        "        character[idx] = \"\"\n",
        "    character = ''.join(character)\n",
        "    monthly_context_new.append(character)\n",
        "    monthly_context = monthly_context_new[1:]\n",
        "    monthly_context = list(filter(None, monthly_context))       # remove null string\n",
        "  return monthly_context\n",
        "\n",
        "page_num = find_page_num()\n",
        "get_context(page_num)"
      ],
      "metadata": {
        "colab": {
          "base_uri": "https://localhost:8080/"
        },
        "id": "YAAhoNRcufic",
        "outputId": "a0dd0e07-7198-48e1-ba09-8c17bdb59173"
      },
      "execution_count": 37,
      "outputs": [
        {
          "output_type": "execute_result",
          "data": {
            "text/plain": [
              "['21',\n",
              " '6.8',\n",
              " '1128',\n",
              " '8.3',\n",
              " '13620',\n",
              " '9.9',\n",
              " '14769',\n",
              " '9.8',\n",
              " '16',\n",
              " '5.2',\n",
              " '896',\n",
              " '6.6',\n",
              " '10177',\n",
              " '7.4',\n",
              " '11089',\n",
              " '7.3',\n",
              " '19',\n",
              " '6.2',\n",
              " '912',\n",
              " '6.7',\n",
              " '9761',\n",
              " '7.1',\n",
              " '10692',\n",
              " '7.1',\n",
              " '14',\n",
              " '4.6',\n",
              " '996',\n",
              " '7.3',\n",
              " '9022',\n",
              " '6.6',\n",
              " '10032',\n",
              " '6.6',\n",
              " '27',\n",
              " '8.8',\n",
              " '1068',\n",
              " '7.9',\n",
              " '9810',\n",
              " '7.1',\n",
              " '10905',\n",
              " '7.2',\n",
              " '27',\n",
              " '8.8',\n",
              " '1188',\n",
              " '8.8',\n",
              " '10774',\n",
              " '7.8',\n",
              " '11989',\n",
              " '7.9',\n",
              " '37',\n",
              " '12.1',\n",
              " '1141',\n",
              " '8.4',\n",
              " '10211',\n",
              " '7.4',\n",
              " '11389',\n",
              " '7.5',\n",
              " '36',\n",
              " '11.7',\n",
              " '1114',\n",
              " '8.2',\n",
              " '9743',\n",
              " '7.1',\n",
              " '10893',\n",
              " '7.2',\n",
              " '28',\n",
              " '9.1',\n",
              " '1210',\n",
              " '8.9',\n",
              " '10588',\n",
              " '7.7',\n",
              " '11826',\n",
              " '7.8',\n",
              " '30',\n",
              " '9.8',\n",
              " '1321',\n",
              " '9.7',\n",
              " '11507',\n",
              " '8.4',\n",
              " '12858',\n",
              " '8.5',\n",
              " '32',\n",
              " '10.4',\n",
              " '1269',\n",
              " '9.4',\n",
              " '16214',\n",
              " '11.8',\n",
              " '17515',\n",
              " '11.6',\n",
              " '20',\n",
              " '6.5',\n",
              " '1300',\n",
              " '9.6',\n",
              " '15656',\n",
              " '11.4',\n",
              " '16976',\n",
              " '11.2']"
            ]
          },
          "metadata": {},
          "execution_count": 37
        }
      ]
    },
    {
      "cell_type": "markdown",
      "source": [
        "### 2.3 Create csv File and Initialize"
      ],
      "metadata": {
        "id": "3rpksummNuum"
      }
    },
    {
      "cell_type": "code",
      "source": [
        "def create_file(context_list):\n",
        "  fieldnames = ['Year', 'Month', 'Fatal Collisions', 'Non-Fatal Injury Collisions', 'Property Damage Collisions', 'Total Collsions']\n",
        "\n",
        "  with open('/content/drive/Shareddrives/KANDY-hacked-beta/Data_Sets/alberta_collision_statistics_csv/trans-alberta-traffic-collision-statistics-2010.csv', 'w') as file:\n",
        "    writer = csv.writer(file)\n",
        "    writer.writerow(fieldnames)\n",
        "\n",
        "    row_list = []\n",
        "    for index in range(100):\n",
        "      if index % 8 == 0:\n",
        "        row_list.append(file_path[len(file_path) - 8:-4])\n",
        "        if index == 0:\n",
        "          row_list.append('January')\n",
        "        elif index == 8:\n",
        "          row_list.append('Feburary')\n",
        "        elif index == 16:\n",
        "          row_list.append('March')\n",
        "        elif index == 24:\n",
        "          row_list.append('April')\n",
        "        elif index == 32:\n",
        "          row_list.append('May')\n",
        "        elif index == 40:\n",
        "          row_list.append('June')\n",
        "        elif index == 48:\n",
        "          row_list.append('July')\n",
        "        elif index == 56:\n",
        "          row_list.append('August')\n",
        "        elif index == 64:\n",
        "          row_list.append('September')\n",
        "        elif index == 72:\n",
        "          row_list.append('October')\n",
        "        elif index == 80:\n",
        "          row_list.append('November')\n",
        "        elif index == 88:\n",
        "          row_list.append('December')\n",
        "        elif index == 96:\n",
        "          break\n",
        "        row_list.append(context_list[index])\n",
        "      elif index % 8 == 2:\n",
        "        row_list.append(context_list[index])\n",
        "      elif index % 8 == 4:\n",
        "        row_list.append(context_list[index])\n",
        "      elif index % 8 == 6:\n",
        "        row_list.append(context_list[index])\n",
        "      elif index % 8 == 7:\n",
        "        print(row_list)\n",
        "        writer.writerow(row_list)\n",
        "        row_list = []\n",
        "\n",
        "page_num = find_page_num()\n",
        "context_file = get_context(page_num)\n",
        "create_file(context_file)"
      ],
      "metadata": {
        "colab": {
          "base_uri": "https://localhost:8080/"
        },
        "id": "63G93XlYt7rO",
        "outputId": "f7273d64-32d0-4145-ced0-49ccea4c7ac4"
      },
      "execution_count": 38,
      "outputs": [
        {
          "output_type": "stream",
          "name": "stdout",
          "text": [
            "['2010', 'January', '21', '1128', '13620', '14769']\n",
            "['2010', 'Feburary', '16', '896', '10177', '11089']\n",
            "['2010', 'March', '19', '912', '9761', '10692']\n",
            "['2010', 'April', '14', '996', '9022', '10032']\n",
            "['2010', 'May', '27', '1068', '9810', '10905']\n",
            "['2010', 'June', '27', '1188', '10774', '11989']\n",
            "['2010', 'July', '37', '1141', '10211', '11389']\n",
            "['2010', 'August', '36', '1114', '9743', '10893']\n",
            "['2010', 'September', '28', '1210', '10588', '11826']\n",
            "['2010', 'October', '30', '1321', '11507', '12858']\n",
            "['2010', 'November', '32', '1269', '16214', '17515']\n",
            "['2010', 'December', '20', '1300', '15656', '16976']\n"
          ]
        }
      ]
    },
    {
      "cell_type": "markdown",
      "source": [
        "### 3. Merge all csv Files into Single File"
      ],
      "metadata": {
        "id": "C5JYpEsucQ9x"
      }
    },
    {
      "cell_type": "code",
      "source": [
        "import glob\n",
        "\n",
        "path = \"/content/drive/Shareddrives/KANDY-hacked-beta/Data_Sets/alberta_collision_statistics_csv/\"\n",
        "\n",
        "file_list = glob.glob(path + \"/*.csv\")\n",
        "print('File names:', file_list)\n",
        "pd.concat(map(pd.read_csv, file_list), ignore_index=True).sort_values(by='Year').to_csv(\"/content/drive/Shareddrives/KANDY-hacked-beta/Data_Sets/alberta_collision_statistics_csv/alberta_collision_statistics.csv\",index=False)"
      ],
      "metadata": {
        "colab": {
          "base_uri": "https://localhost:8080/"
        },
        "id": "uB9L5BTLxo99",
        "outputId": "b27e85e8-49c1-4887-e4e1-b0625480c4f8"
      },
      "execution_count": 40,
      "outputs": [
        {
          "output_type": "stream",
          "name": "stdout",
          "text": [
            "File names: ['/content/drive/Shareddrives/KANDY-hacked-beta/Data_Sets/alberta_collision_statistics_csv/trans-alberta-traffic-collision-statistics-2019.csv', '/content/drive/Shareddrives/KANDY-hacked-beta/Data_Sets/alberta_collision_statistics_csv/trans-alberta-traffic-collision-statistics-1998.csv', '/content/drive/Shareddrives/KANDY-hacked-beta/Data_Sets/alberta_collision_statistics_csv/trans-alberta-traffic-collision-statistics-1999.csv', '/content/drive/Shareddrives/KANDY-hacked-beta/Data_Sets/alberta_collision_statistics_csv/trans-alberta-traffic-collision-statistics-2000.csv', '/content/drive/Shareddrives/KANDY-hacked-beta/Data_Sets/alberta_collision_statistics_csv/trans-alberta-traffic-collision-statistics-2001.csv', '/content/drive/Shareddrives/KANDY-hacked-beta/Data_Sets/alberta_collision_statistics_csv/trans-alberta-traffic-collision-statistics-2002.csv', '/content/drive/Shareddrives/KANDY-hacked-beta/Data_Sets/alberta_collision_statistics_csv/trans-alberta-traffic-collision-statistics-2003.csv', '/content/drive/Shareddrives/KANDY-hacked-beta/Data_Sets/alberta_collision_statistics_csv/trans-alberta-traffic-collision-statistics-2004.csv', '/content/drive/Shareddrives/KANDY-hacked-beta/Data_Sets/alberta_collision_statistics_csv/trans-alberta-traffic-collision-statistics-2005.csv', '/content/drive/Shareddrives/KANDY-hacked-beta/Data_Sets/alberta_collision_statistics_csv/trans-alberta-traffic-collision-statistics-2006.csv', '/content/drive/Shareddrives/KANDY-hacked-beta/Data_Sets/alberta_collision_statistics_csv/trans-alberta-traffic-collision-statistics-2007.csv', '/content/drive/Shareddrives/KANDY-hacked-beta/Data_Sets/alberta_collision_statistics_csv/trans-alberta-traffic-collision-statistics-2008.csv', '/content/drive/Shareddrives/KANDY-hacked-beta/Data_Sets/alberta_collision_statistics_csv/trans-alberta-traffic-collision-statistics-2009.csv', '/content/drive/Shareddrives/KANDY-hacked-beta/Data_Sets/alberta_collision_statistics_csv/trans-alberta-traffic-collision-statistics-2010.csv', '/content/drive/Shareddrives/KANDY-hacked-beta/Data_Sets/alberta_collision_statistics_csv/trans-alberta-traffic-collision-statistics-2011.csv', '/content/drive/Shareddrives/KANDY-hacked-beta/Data_Sets/alberta_collision_statistics_csv/trans-alberta-traffic-collision-statistics-2013.csv', '/content/drive/Shareddrives/KANDY-hacked-beta/Data_Sets/alberta_collision_statistics_csv/trans-alberta-traffic-collision-statistics-2014.csv', '/content/drive/Shareddrives/KANDY-hacked-beta/Data_Sets/alberta_collision_statistics_csv/trans-alberta-traffic-collision-statistics-2015.csv', '/content/drive/Shareddrives/KANDY-hacked-beta/Data_Sets/alberta_collision_statistics_csv/trans-alberta-traffic-collision-statistics-2016.csv', '/content/drive/Shareddrives/KANDY-hacked-beta/Data_Sets/alberta_collision_statistics_csv/trans-alberta-traffic-collision-statistics-2017.csv', '/content/drive/Shareddrives/KANDY-hacked-beta/Data_Sets/alberta_collision_statistics_csv/trans-alberta-traffic-collision-statistics-2018.csv', '/content/drive/Shareddrives/KANDY-hacked-beta/Data_Sets/alberta_collision_statistics_csv/trans-alberta-traffic-collision-statistics-2012.csv']\n"
          ]
        }
      ]
    }
  ]
}