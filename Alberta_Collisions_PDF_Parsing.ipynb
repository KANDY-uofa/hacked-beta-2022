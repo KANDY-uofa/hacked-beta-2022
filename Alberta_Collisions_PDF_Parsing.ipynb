{
  "nbformat": 4,
  "nbformat_minor": 0,
  "metadata": {
    "colab": {
      "provenance": [],
      "collapsed_sections": []
    },
    "kernelspec": {
      "name": "python3",
      "display_name": "Python 3"
    },
    "language_info": {
      "name": "python"
    }
  },
  "cells": [
    {
      "cell_type": "markdown",
      "source": [
        "# PDF Parsing "
      ],
      "metadata": {
        "id": "RKcR0lnQMIOH"
      }
    },
    {
      "cell_type": "markdown",
      "source": [
        "Team Name: KANDY\n",
        "\n",
        "Date: November 06, 2022\n",
        "\n",
        "Project: Analyzing Information on Car Collision in Canada\n",
        "\n",
        "Competition: HACKED(beta) 2022 at the University of Alberta\n",
        "\n",
        "Author: Jamie Lee\n",
        "\n",
        "Team Members: Min Joh, Jamie Lee, Taekwan Yoon, Yongbin Kim, Dohyun Kim\n",
        "\n",
        "Description of file:\n",
        "\n",
        "This Jupyter Notebook parse table data from pdf file and merge all the csv files after. "
      ],
      "metadata": {
        "id": "bJKk6i6xc3m9"
      }
    },
    {
      "cell_type": "markdown",
      "source": [
        "## 1. Setups"
      ],
      "metadata": {
        "id": "mTK0dnKkMMgm"
      }
    },
    {
      "cell_type": "markdown",
      "source": [
        "### 1.1 Installing Modules"
      ],
      "metadata": {
        "id": "0hPoyT-ZMQO4"
      }
    },
    {
      "cell_type": "code",
      "source": [
        "pip install PyPDF2"
      ],
      "metadata": {
        "colab": {
          "base_uri": "https://localhost:8080/"
        },
        "id": "mA7eKsNUL6vY",
        "outputId": "2565b5b9-f55c-4b95-9cfc-4d861ab9d7c5"
      },
      "execution_count": 1,
      "outputs": [
        {
          "output_type": "stream",
          "name": "stdout",
          "text": [
            "Looking in indexes: https://pypi.org/simple, https://us-python.pkg.dev/colab-wheels/public/simple/\n",
            "Requirement already satisfied: PyPDF2 in /usr/local/lib/python3.7/dist-packages (2.11.1)\n",
            "Requirement already satisfied: typing-extensions>=3.10.0.0 in /usr/local/lib/python3.7/dist-packages (from PyPDF2) (4.1.1)\n"
          ]
        }
      ]
    },
    {
      "cell_type": "markdown",
      "source": [
        "### 1.2 Importing Modules and Read File"
      ],
      "metadata": {
        "id": "s_K0hI4FMU6H"
      }
    },
    {
      "cell_type": "code",
      "source": [
        "from PyPDF2 import PdfFileReader\n",
        "from glob import glob\n",
        "from google.colab import drive\n",
        "import pandas as pd\n",
        "import os\n",
        "import csv\n",
        "\n",
        "drive.mount('/content/drive')\n",
        "file_path = '/content/drive/Shareddrives/KANDY-hacked-beta/Data_Sets/alberta_collision_statistics/trans-alberta-traffic-collision-statistics-2018.pdf'\n",
        "reader = PdfFileReader(file_path)"
      ],
      "metadata": {
        "colab": {
          "base_uri": "https://localhost:8080/"
        },
        "id": "-ZOR4gM5LzRS",
        "outputId": "adcfe11f-81eb-46c5-f7c4-e86fda704688"
      },
      "execution_count": 25,
      "outputs": [
        {
          "output_type": "stream",
          "name": "stdout",
          "text": [
            "Drive already mounted at /content/drive; to attempt to forcibly remount, call drive.mount(\"/content/drive\", force_remount=True).\n"
          ]
        }
      ]
    },
    {
      "cell_type": "markdown",
      "source": [
        "## 2. PDF Parsing"
      ],
      "metadata": {
        "id": "hw_tIE7_MiRT"
      }
    },
    {
      "cell_type": "markdown",
      "source": [
        "### 2.1 Find Page Number"
      ],
      "metadata": {
        "id": "TCYdcvEyTZcx"
      }
    },
    {
      "cell_type": "code",
      "source": [
        "def find_page_num():\n",
        "  title = \"Collision occurrence by month\"\n",
        "  for i in range(30):\n",
        "    page_obj = reader.getPage(i)\n",
        "    if i > 15:\n",
        "      for j in range(10):\n",
        "        try:\n",
        "          page_title = page_obj.extractText().split('\\n')[j]\n",
        "        except IndexError:\n",
        "            page_title = \"\"\n",
        "        if title.lower() in page_title.lower():\n",
        "          return i\n",
        "\n",
        "find_page_num()"
      ],
      "metadata": {
        "colab": {
          "base_uri": "https://localhost:8080/"
        },
        "id": "HFDpsheJNXbp",
        "outputId": "68843d9a-fb5d-4c13-a566-7891cdb670ac"
      },
      "execution_count": 26,
      "outputs": [
        {
          "output_type": "execute_result",
          "data": {
            "text/plain": [
              "20"
            ]
          },
          "metadata": {},
          "execution_count": 26
        }
      ]
    },
    {
      "cell_type": "markdown",
      "source": [
        "### 2.2 Get All Context from Given Page Number"
      ],
      "metadata": {
        "id": "qLJxuTMycHlg"
      }
    },
    {
      "cell_type": "code",
      "source": [
        "def get_context(page_num):\n",
        "  # extract all the contexts from given page_num\n",
        "  page_obj = reader.getPage(page_num)\n",
        "  context_list = [page_obj.extractText().split('\\n')]\n",
        "  context_list  = [val for sublist in context_list for val in sublist]\n",
        "\n",
        "  # taking monthly data and remove other unwated contexts\n",
        "  index = 0 \n",
        "  for i in context_list:\n",
        "    if i.startswith(\"January\"):\n",
        "      context_list = context_list[index:]\n",
        "    index += 1\n",
        "  index = 0 \n",
        "  for i in context_list:\n",
        "    if i.endswith(\"Total Number\"):\n",
        "      context_list = context_list[:index]\n",
        "    index += 1\n",
        "  \n",
        "  # remove unwanted string from last item in list\n",
        "  last_list = context_list[len(context_list)-1].split('U')\n",
        "  last_list = last_list[:1]\n",
        "  context_list = context_list[:-1] + last_list\n",
        "\n",
        "  monthly_context = ''.join(context_list).split()\n",
        "  monthly_context_new = []\n",
        "  for string in monthly_context:\n",
        "    character = list(string)\n",
        "    for idx in range(len(character)):\n",
        "      if character[idx].isalpha():\n",
        "        character[idx] = \"\"\n",
        "    character = ''.join(character)\n",
        "    monthly_context_new.append(character)\n",
        "    monthly_context = monthly_context_new[1:]\n",
        "  return monthly_context\n",
        "\n",
        "page_num = find_page_num()\n",
        "get_context(page_num)"
      ],
      "metadata": {
        "colab": {
          "base_uri": "https://localhost:8080/"
        },
        "id": "YAAhoNRcufic",
        "outputId": "70190868-f173-464d-c7c7-0f6923b1a294"
      },
      "execution_count": 27,
      "outputs": [
        {
          "output_type": "execute_result",
          "data": {
            "text/plain": [
              "['15',\n",
              " '6.1',\n",
              " '1,246',\n",
              " '9.7',\n",
              " '13,361',\n",
              " '10.3',\n",
              " '14,622',\n",
              " '10.3',\n",
              " '15',\n",
              " '6.1',\n",
              " '1,156',\n",
              " '9.0',\n",
              " '13,396',\n",
              " '10.3',\n",
              " '14,567',\n",
              " '10.2',\n",
              " '11',\n",
              " '4.5',\n",
              " '1,154',\n",
              " '9.0',\n",
              " '11,458',\n",
              " '8.8',\n",
              " '12,623',\n",
              " '8.9',\n",
              " '15',\n",
              " '6.1',\n",
              " '803',\n",
              " '6.2',\n",
              " '9,268',\n",
              " '7.2',\n",
              " '10,086',\n",
              " '7.1',\n",
              " '18',\n",
              " '7.3',\n",
              " '996',\n",
              " '7.7',\n",
              " '9,134',\n",
              " '7.1',\n",
              " '10,148',\n",
              " '7.1',\n",
              " '27',\n",
              " '11.0',\n",
              " '1,045',\n",
              " '8.1',\n",
              " '9,728',\n",
              " '7.5',\n",
              " '10,800',\n",
              " '7.6',\n",
              " '26',\n",
              " '10.6',\n",
              " '1,026',\n",
              " '8.0',\n",
              " '9,248',\n",
              " '7.1',\n",
              " '10,300',\n",
              " '7.2',\n",
              " '27',\n",
              " '11.0',\n",
              " '978',\n",
              " '7.6',\n",
              " '8,716',\n",
              " '6.7',\n",
              " '9,721',\n",
              " '6.8',\n",
              " '23',\n",
              " '9.3',\n",
              " '1,040',\n",
              " '8.1',\n",
              " '9,224',\n",
              " '7.1',\n",
              " '10,287',\n",
              " '7.2',\n",
              " '27',\n",
              " '11.0',\n",
              " '1,139',\n",
              " '8.9',\n",
              " '11,163',\n",
              " '8.6',\n",
              " '12,329',\n",
              " '8.6',\n",
              " '21',\n",
              " '8.5',\n",
              " '1,200',\n",
              " '9.3',\n",
              " '13,707',\n",
              " '10.6',\n",
              " '14,928',\n",
              " '10.5',\n",
              " '21',\n",
              " '8.5',\n",
              " '1,069',\n",
              " '8.3',\n",
              " '11,088',\n",
              " '8.6',\n",
              " '12,178',\n",
              " '8.5']"
            ]
          },
          "metadata": {},
          "execution_count": 27
        }
      ]
    },
    {
      "cell_type": "markdown",
      "source": [
        "### 2.3 Create csv File and Initialize"
      ],
      "metadata": {
        "id": "3rpksummNuum"
      }
    },
    {
      "cell_type": "code",
      "source": [
        "def create_file(context_list):\n",
        "  fieldnames = ['Year', 'Month', 'Fatal Collisions', 'Non-Fatal Injury Collisions', 'Property Damage Collisions', 'Total Collsions']\n",
        "\n",
        "  with open('/content/drive/Shareddrives/KANDY-hacked-beta/Data_Sets/alberta_collision_statistics_csv/trans-alberta-traffic-collision-statistics-2018.csv', 'w') as file:\n",
        "    writer = csv.writer(file)\n",
        "    writer.writerow(fieldnames)\n",
        "\n",
        "    row_list = []\n",
        "    for index in range(100):\n",
        "      if index % 8 == 0:\n",
        "        row_list.append(file_path[len(file_path) - 8:-4])\n",
        "        if index == 0:\n",
        "          row_list.append('January')\n",
        "        elif index == 8:\n",
        "          row_list.append('Feburary')\n",
        "        elif index == 16:\n",
        "          row_list.append('March')\n",
        "        elif index == 24:\n",
        "          row_list.append('April')\n",
        "        elif index == 32:\n",
        "          row_list.append('May')\n",
        "        elif index == 40:\n",
        "          row_list.append('June')\n",
        "        elif index == 48:\n",
        "          row_list.append('July')\n",
        "        elif index == 56:\n",
        "          row_list.append('August')\n",
        "        elif index == 64:\n",
        "          row_list.append('September')\n",
        "        elif index == 72:\n",
        "          row_list.append('October')\n",
        "        elif index == 80:\n",
        "          row_list.append('November')\n",
        "        elif index == 88:\n",
        "          row_list.append('December')\n",
        "        elif index == 96:\n",
        "          break\n",
        "        row_list.append(context_list[index])\n",
        "      elif index % 8 == 2:\n",
        "        row_list.append(context_list[index])\n",
        "      elif index % 8 == 4:\n",
        "        row_list.append(context_list[index])\n",
        "      elif index % 8 == 6:\n",
        "        row_list.append(context_list[index])\n",
        "      elif index % 8 == 7:\n",
        "        print(row_list)\n",
        "        writer.writerow(row_list)\n",
        "        row_list = []\n",
        "\n",
        "page_num = find_page_num()\n",
        "context_file = get_context(page_num)\n",
        "create_file(context_file)"
      ],
      "metadata": {
        "colab": {
          "base_uri": "https://localhost:8080/"
        },
        "id": "63G93XlYt7rO",
        "outputId": "6ba69091-8798-4239-9631-940651b56186"
      },
      "execution_count": 31,
      "outputs": [
        {
          "output_type": "stream",
          "name": "stdout",
          "text": [
            "['2018', 'January', '15', '1,246', '13,361', '14,622']\n",
            "['2018', 'Feburary', '15', '1,156', '13,396', '14,567']\n",
            "['2018', 'March', '11', '1,154', '11,458', '12,623']\n",
            "['2018', 'April', '15', '803', '9,268', '10,086']\n",
            "['2018', 'May', '18', '996', '9,134', '10,148']\n",
            "['2018', 'June', '27', '1,045', '9,728', '10,800']\n",
            "['2018', 'July', '26', '1,026', '9,248', '10,300']\n",
            "['2018', 'August', '27', '978', '8,716', '9,721']\n",
            "['2018', 'September', '23', '1,040', '9,224', '10,287']\n",
            "['2018', 'October', '27', '1,139', '11,163', '12,329']\n",
            "['2018', 'November', '21', '1,200', '13,707', '14,928']\n",
            "['2018', 'December', '21', '1,069', '11,088', '12,178']\n"
          ]
        }
      ]
    },
    {
      "cell_type": "markdown",
      "source": [
        "### 3. Merge all csv Files into Single File"
      ],
      "metadata": {
        "id": "C5JYpEsucQ9x"
      }
    },
    {
      "cell_type": "code",
      "source": [
        "import glob\n",
        "\n",
        "path = \"/content/drive/Shareddrives/KANDY-hacked-beta/Data_Sets/alberta_collision_statistics_csv/\"\n",
        "\n",
        "file_list = glob.glob(path + \"/*.csv\")\n",
        "print('File names:', file_list)\n",
        "pd.concat(map(pd.read_csv, file_list), ignore_index=True).sort_values(by='Year').to_csv(\"/content/drive/Shareddrives/KANDY-hacked-beta/Data_Sets/alberta_collision_statistics_csv/alberta_collision_statistics.csv\",index=False)"
      ],
      "metadata": {
        "colab": {
          "base_uri": "https://localhost:8080/"
        },
        "id": "uB9L5BTLxo99",
        "outputId": "cabfe420-1b0d-4e7a-cdb3-b83bdc2963f8"
      },
      "execution_count": 32,
      "outputs": [
        {
          "output_type": "stream",
          "name": "stdout",
          "text": [
            "File names: ['/content/drive/Shareddrives/KANDY-hacked-beta/Data_Sets/alberta_collision_statistics_csv/trans-alberta-traffic-collision-statistics-2019.csv', '/content/drive/Shareddrives/KANDY-hacked-beta/Data_Sets/alberta_collision_statistics_csv/trans-alberta-traffic-collision-statistics-1998.csv', '/content/drive/Shareddrives/KANDY-hacked-beta/Data_Sets/alberta_collision_statistics_csv/trans-alberta-traffic-collision-statistics-1999.csv', '/content/drive/Shareddrives/KANDY-hacked-beta/Data_Sets/alberta_collision_statistics_csv/trans-alberta-traffic-collision-statistics-2000.csv', '/content/drive/Shareddrives/KANDY-hacked-beta/Data_Sets/alberta_collision_statistics_csv/trans-alberta-traffic-collision-statistics-2001.csv', '/content/drive/Shareddrives/KANDY-hacked-beta/Data_Sets/alberta_collision_statistics_csv/trans-alberta-traffic-collision-statistics-2002.csv', '/content/drive/Shareddrives/KANDY-hacked-beta/Data_Sets/alberta_collision_statistics_csv/trans-alberta-traffic-collision-statistics-2003.csv', '/content/drive/Shareddrives/KANDY-hacked-beta/Data_Sets/alberta_collision_statistics_csv/trans-alberta-traffic-collision-statistics-2004.csv', '/content/drive/Shareddrives/KANDY-hacked-beta/Data_Sets/alberta_collision_statistics_csv/trans-alberta-traffic-collision-statistics-2005.csv', '/content/drive/Shareddrives/KANDY-hacked-beta/Data_Sets/alberta_collision_statistics_csv/trans-alberta-traffic-collision-statistics-2006.csv', '/content/drive/Shareddrives/KANDY-hacked-beta/Data_Sets/alberta_collision_statistics_csv/trans-alberta-traffic-collision-statistics-2007.csv', '/content/drive/Shareddrives/KANDY-hacked-beta/Data_Sets/alberta_collision_statistics_csv/trans-alberta-traffic-collision-statistics-2008.csv', '/content/drive/Shareddrives/KANDY-hacked-beta/Data_Sets/alberta_collision_statistics_csv/trans-alberta-traffic-collision-statistics-2009.csv', '/content/drive/Shareddrives/KANDY-hacked-beta/Data_Sets/alberta_collision_statistics_csv/trans-alberta-traffic-collision-statistics-2010.csv', '/content/drive/Shareddrives/KANDY-hacked-beta/Data_Sets/alberta_collision_statistics_csv/trans-alberta-traffic-collision-statistics-2011.csv', '/content/drive/Shareddrives/KANDY-hacked-beta/Data_Sets/alberta_collision_statistics_csv/trans-alberta-traffic-collision-statistics-2013.csv', '/content/drive/Shareddrives/KANDY-hacked-beta/Data_Sets/alberta_collision_statistics_csv/trans-alberta-traffic-collision-statistics-2014.csv', '/content/drive/Shareddrives/KANDY-hacked-beta/Data_Sets/alberta_collision_statistics_csv/trans-alberta-traffic-collision-statistics-2015.csv', '/content/drive/Shareddrives/KANDY-hacked-beta/Data_Sets/alberta_collision_statistics_csv/trans-alberta-traffic-collision-statistics-2016.csv', '/content/drive/Shareddrives/KANDY-hacked-beta/Data_Sets/alberta_collision_statistics_csv/trans-alberta-traffic-collision-statistics-2017.csv', '/content/drive/Shareddrives/KANDY-hacked-beta/Data_Sets/alberta_collision_statistics_csv/trans-alberta-traffic-collision-statistics-2018.csv', '/content/drive/Shareddrives/KANDY-hacked-beta/Data_Sets/alberta_collision_statistics_csv/trans-alberta-traffic-collision-statistics-2012.csv', '/content/drive/Shareddrives/KANDY-hacked-beta/Data_Sets/alberta_collision_statistics_csv/alberta_collision_statistics.csv']\n"
          ]
        }
      ]
    }
  ]
}